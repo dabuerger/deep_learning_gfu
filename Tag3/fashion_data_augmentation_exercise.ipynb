{
 "cells": [
  {
   "cell_type": "markdown",
   "metadata": {},
   "source": [
    "# Übung zur Data-Augmentation unter Benutzung eines Generators\n",
    "\n",
    "Die Aufgabe ist es, analog zum using-convnets-with-small-datasets, fashion_mnist mit einem Generator und Dataaugmentation zu trainieren.\n",
    "\n",
    "Da wird die Daten aus tensorflow.keras.datasets laden, müssen wir nicht .flow_from_directory sondern einfach .flow benutzen.\n",
    "\n"
   ]
  }
 ],
 "metadata": {
  "kernelspec": {
   "display_name": "Python 3",
   "language": "python",
   "name": "python3"
  },
  "language_info": {
   "codemirror_mode": {
    "name": "ipython",
    "version": 3
   },
   "file_extension": ".py",
   "mimetype": "text/x-python",
   "name": "python",
   "nbconvert_exporter": "python",
   "pygments_lexer": "ipython3",
   "version": "3.7.4"
  }
 },
 "nbformat": 4,
 "nbformat_minor": 2
}
